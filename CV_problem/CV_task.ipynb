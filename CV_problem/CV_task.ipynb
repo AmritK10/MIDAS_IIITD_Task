{
  "nbformat": 4,
  "nbformat_minor": 0,
  "metadata": {
    "colab": {
      "name": "CV_task.ipynb",
      "version": "0.3.2",
      "provenance": [],
      "collapsed_sections": []
    },
    "kernelspec": {
      "name": "python3",
      "display_name": "Python 3"
    },
    "accelerator": "GPU"
  },
  "cells": [
    {
      "metadata": {
        "id": "gIVcAM-a19kZ",
        "colab_type": "text"
      },
      "cell_type": "markdown",
      "source": [
        "# Computer Vision Problem"
      ]
    },
    {
      "metadata": {
        "id": "FKB6qxh_2C-Z",
        "colab_type": "text"
      },
      "cell_type": "markdown",
      "source": [
        "## Importing Libraries"
      ]
    },
    {
      "metadata": {
        "id": "QeDsnDMvrdkD",
        "colab_type": "code",
        "colab": {}
      },
      "cell_type": "code",
      "source": [
        "import pickle\n",
        "import numpy as np\n",
        "import matplotlib.pyplot as plt"
      ],
      "execution_count": 0,
      "outputs": []
    },
    {
      "metadata": {
        "id": "bDTW_YUK2Gw3",
        "colab_type": "text"
      },
      "cell_type": "markdown",
      "source": [
        "## Loading Training images and labels from pickle files\n",
        "Loading the data from the pickle files. <br/>\n",
        "Converting the data into numpy arrays.<br/>\n",
        "printing the shape of the data.<br/>"
      ]
    },
    {
      "metadata": {
        "id": "CDF_VpPJPCnV",
        "colab_type": "code",
        "colab": {
          "base_uri": "https://localhost:8080/",
          "height": 34
        },
        "outputId": "623f7c4b-06ae-439c-91cc-fe86a411075a"
      },
      "cell_type": "code",
      "source": [
        "#loading\n",
        "file = open(\"train_image.pkl\",'rb')\n",
        "train_images = pickle.load(file)\n",
        "file.close()\n",
        "file = open(\"train_label.pkl\",'rb')\n",
        "train_labels = pickle.load(file)\n",
        "file.close()\n",
        "#converting to numpy\n",
        "train_images=np.array(train_images)\n",
        "train_labels=np.array(train_labels)\n",
        "#printing shape\n",
        "train_images.shape,train_labels.shape"
      ],
      "execution_count": 2,
      "outputs": [
        {
          "output_type": "execute_result",
          "data": {
            "text/plain": [
              "((8000, 784), (8000,))"
            ]
          },
          "metadata": {
            "tags": []
          },
          "execution_count": 2
        }
      ]
    },
    {
      "metadata": {
        "id": "W4CNaTLS2tUt",
        "colab_type": "text"
      },
      "cell_type": "markdown",
      "source": [
        "## Reshaping to view the images"
      ]
    },
    {
      "metadata": {
        "id": "u90PXiv5rdkL",
        "colab_type": "code",
        "colab": {
          "base_uri": "https://localhost:8080/",
          "height": 51
        },
        "outputId": "4828d879-51b0-4f14-839a-cbb5e627c64c"
      },
      "cell_type": "code",
      "source": [
        "#reshaping\n",
        "xtrain=np.reshape(train_images,(-1,28,28))\n",
        "#printing shape and labels\n",
        "print(xtrain.shape)\n",
        "train_labels"
      ],
      "execution_count": 3,
      "outputs": [
        {
          "output_type": "stream",
          "text": [
            "(8000, 28, 28)\n"
          ],
          "name": "stdout"
        },
        {
          "output_type": "execute_result",
          "data": {
            "text/plain": [
              "array([0, 0, 0, ..., 6, 6, 6])"
            ]
          },
          "metadata": {
            "tags": []
          },
          "execution_count": 3
        }
      ]
    },
    {
      "metadata": {
        "id": "ndoI-y--rdkQ",
        "colab_type": "code",
        "outputId": "a336172e-3abf-468d-b1fd-7efa5586373f",
        "colab": {
          "base_uri": "https://localhost:8080/",
          "height": 34
        }
      },
      "cell_type": "code",
      "source": [
        "#printing labels of different classes\n",
        "train_labels[0],train_labels[2000],train_labels[4000],train_labels[6000]"
      ],
      "execution_count": 4,
      "outputs": [
        {
          "output_type": "execute_result",
          "data": {
            "text/plain": [
              "(0, 2, 3, 6)"
            ]
          },
          "metadata": {
            "tags": []
          },
          "execution_count": 4
        }
      ]
    },
    {
      "metadata": {
        "id": "vhEymyQe2z4A",
        "colab_type": "text"
      },
      "cell_type": "markdown",
      "source": [
        "## Plotting a few images to get an idea of the dataset\n",
        "4 images of each class are plotted to get an idea of the dataset. Each image has their label above the image.<br/>\n",
        "It was noted the data set is of clothes.<br/>\n",
        "Label 0 corresponds to T-shirts Halfsleeves or Sleeveless.<br/>\n",
        "Label 2 corresponds to Fullsleeves T-shrits.<br/>\n",
        "Label 3 corresponds to  Dresses.<br/>\n",
        "Label 6 corresponds to  Shirts.<br/>\n",
        "The above deductions are based purely on visual basis and may vary from the acutal labels.\n"
      ]
    },
    {
      "metadata": {
        "id": "zVTn0N_7rdkS",
        "colab_type": "code",
        "outputId": "10677e19-b135-4c43-b968-04b8b9e77576",
        "colab": {
          "base_uri": "https://localhost:8080/",
          "height": 585
        }
      },
      "cell_type": "code",
      "source": [
        "#plotting the images class wise\n",
        "k=0\n",
        "fig = plt.figure(figsize=(8,8))\n",
        "for j in range(0,6001,2000):\n",
        "  for i in range (1,5):\n",
        "    k+=1\n",
        "    sub=fig.add_subplot(4,4,k)\n",
        "    sub.set_title(\"Label: \" + str(train_labels[j+i]))\n",
        "    plt.imshow(xtrain[j+i])\n",
        "    plt.tight_layout()"
      ],
      "execution_count": 5,
      "outputs": [
        {
          "output_type": "display_data",
          "data": {
            "image/png": "[encoded data removed]",
            "text/plain": [
              "<Figure size 576x576 with 16 Axes>"
            ]
          },
          "metadata": {
            "tags": []
          }
        }
      ]
    },
    {
      "metadata": {
        "id": "5x3zTplm28dc",
        "colab_type": "text"
      },
      "cell_type": "markdown",
      "source": [
        "## Data Augmentation\n",
        "When we train a machine learning model, what we’re really doing is tuning its parameters such that it can map a particular input (say, an image) to some output (a label). As the number of parameters increase the training data should also increase proportionally to get good results.<br/><br/>\n",
        "In this case the dataset of is of only 8000 images which is very less. Hence, we increase the size of the dataset by performing data augmentation.<br/><br/>\n",
        "We perform **offline data augmentation** by **rotating** the images by **90, 180 & 270 degrees**. Hence, the dataset size increases **4 times** ."
      ]
    },
    {
      "metadata": {
        "id": "Rqhs92t5nX7k",
        "colab_type": "code",
        "colab": {
          "base_uri": "https://localhost:8080/",
          "height": 68
        },
        "outputId": "e30469f3-9bce-490d-a11d-8a7d0e2eb1cc"
      },
      "cell_type": "code",
      "source": [
        "Xtrain = list(xtrain) \n",
        "Ytrain = list(train_labels)\n",
        "#rotating the image,appending it and appending it's label\n",
        "for i in range(xtrain.shape[0]):\n",
        "    img = xtrain[i]\n",
        "    rotated = np.rot90(img,1) # image rotation-(90 degrees)\n",
        "    Xtrain.append(rotated) \n",
        "    Ytrain.append(train_labels[i]) \n",
        "    \n",
        "    rotated = np.rot90(rotated,1) # image rotation-(180 degrees)\n",
        "    Xtrain.append(rotated) \n",
        "    Ytrain.append(train_labels[i]) \n",
        "    \n",
        "    rotated = np.rot90(rotated,1) # image rotation-(270 degrees)\n",
        "    Xtrain.append(rotated) \n",
        "    Ytrain.append(train_labels[i])\n",
        "    \n",
        "#printing the length\n",
        "print(len(Xtrain))\n",
        "#converting to numpy\n",
        "X_train = np.array(Xtrain) \n",
        "Y_train = np.array(Ytrain)\n",
        "#printing the shape\n",
        "print(X_train.shape)\n",
        "print(Y_train.shape)"
      ],
      "execution_count": 6,
      "outputs": [
        {
          "output_type": "stream",
          "text": [
            "32000\n",
            "(32000, 28, 28)\n",
            "(32000,)\n"
          ],
          "name": "stdout"
        }
      ]
    },
    {
      "metadata": {
        "id": "2RGfN_Gw2_1R",
        "colab_type": "text"
      },
      "cell_type": "markdown",
      "source": [
        "## Plotting the Augmented images"
      ]
    },
    {
      "metadata": {
        "id": "CFXNBCvco4ch",
        "colab_type": "code",
        "colab": {
          "base_uri": "https://localhost:8080/",
          "height": 585
        },
        "outputId": "fadd4630-9c9b-45e7-c9ba-cd6bb35a2983"
      },
      "cell_type": "code",
      "source": [
        "#plotting the augmented images to check the augmentation\n",
        "fig = plt.figure(figsize=(8,8))\n",
        "for i in range (1,17):\n",
        "  sub=fig.add_subplot(4,4,i)\n",
        "  sub.set_title(\"Label: \" + str(Y_train[8000+i-1]))\n",
        "  plt.imshow(X_train[8000+i-1])\n",
        "  plt.tight_layout()"
      ],
      "execution_count": 7,
      "outputs": [
        {
          "output_type": "display_data",
          "data": {
            "image/png": "[encoded data removed]",
            "text/plain": [
              "<Figure size 576x576 with 16 Axes>"
            ]
          },
          "metadata": {
            "tags": []
          }
        }
      ]
    },
    {
      "metadata": {
        "id": "4Vs6-f7s4HZ5",
        "colab_type": "text"
      },
      "cell_type": "markdown",
      "source": [
        "## Splitting The data into Training and Validation Data"
      ]
    },
    {
      "metadata": {
        "id": "H4KAGeMbrdke",
        "colab_type": "code",
        "colab": {
          "base_uri": "https://localhost:8080/",
          "height": 34
        },
        "outputId": "0747223e-c0a7-4c07-a399-f29a3df1ae02"
      },
      "cell_type": "code",
      "source": [
        "#usinf sklearn's train test split to split the data\n",
        "from sklearn.model_selection import train_test_split\n",
        "Xtrain,Xval,Ytrain,Yval=train_test_split(X_train,Y_train,test_size=0.05)\n",
        "Xtrain.shape,Xval.shape,Ytrain.shape,Yval.shape"
      ],
      "execution_count": 8,
      "outputs": [
        {
          "output_type": "execute_result",
          "data": {
            "text/plain": [
              "((30400, 28, 28), (1600, 28, 28), (30400,), (1600,))"
            ]
          },
          "metadata": {
            "tags": []
          },
          "execution_count": 8
        }
      ]
    },
    {
      "metadata": {
        "id": "coG-3qFp4Oer",
        "colab_type": "text"
      },
      "cell_type": "markdown",
      "source": [
        "## Reshaping the Data into the form Required by Keras"
      ]
    },
    {
      "metadata": {
        "id": "4YPWcOBdrdkg",
        "colab_type": "code",
        "colab": {}
      },
      "cell_type": "code",
      "source": [
        "Xtrain=Xtrain.reshape(-1,28,28,1)\n",
        "Xval=Xval.reshape(-1,28,28,1)"
      ],
      "execution_count": 0,
      "outputs": []
    },
    {
      "metadata": {
        "id": "zVYYJpRZ4UPv",
        "colab_type": "text"
      },
      "cell_type": "markdown",
      "source": [
        "## Max Normalising the images"
      ]
    },
    {
      "metadata": {
        "id": "hJbFaoINrdkr",
        "colab_type": "code",
        "colab": {}
      },
      "cell_type": "code",
      "source": [
        "Xtrain=Xtrain/255.0\n",
        "Xval=Xval/255.0"
      ],
      "execution_count": 0,
      "outputs": []
    },
    {
      "metadata": {
        "id": "-j-tLya54cW7",
        "colab_type": "text"
      },
      "cell_type": "markdown",
      "source": [
        "## Converting the Classes/Labels to one hot using LabelBinarizer"
      ]
    },
    {
      "metadata": {
        "id": "o98tS9c4rdks",
        "colab_type": "code",
        "outputId": "c918050e-d70a-44db-d61f-7f4457aed15b",
        "colab": {
          "base_uri": "https://localhost:8080/",
          "height": 153
        }
      },
      "cell_type": "code",
      "source": [
        "#using sklearn's LabelBinarizer to encode the class labels\n",
        "from sklearn.preprocessing import LabelBinarizer\n",
        "lb=LabelBinarizer()\n",
        "lb.fit(Ytrain)\n",
        "print(\"Before LabelBinarizer: \")\n",
        "print(Ytrain[0],Yval[0])\n",
        "print(Ytrain.shape,Yval.shape)\n",
        "Ytrain=lb.transform(Ytrain)\n",
        "Yval=lb.transform(Yval)\n",
        "print(\"After LabelBinarizer: \")\n",
        "print(Ytrain[0],Yval[0])\n",
        "print(Ytrain.shape,Yval.shape)\n",
        "print(\"Classes: \")\n",
        "print(lb.classes_)"
      ],
      "execution_count": 11,
      "outputs": [
        {
          "output_type": "stream",
          "text": [
            "Before LabelBinarizer: \n",
            "6 6\n",
            "(30400,) (1600,)\n",
            "After LabelBinarizer: \n",
            "[0 0 0 1] [0 0 0 1]\n",
            "(30400, 4) (1600, 4)\n",
            "Classes: \n",
            "[0 2 3 6]\n"
          ],
          "name": "stdout"
        }
      ]
    },
    {
      "metadata": {
        "id": "p-JtlRPX4mCu",
        "colab_type": "text"
      },
      "cell_type": "markdown",
      "source": [
        "# Model"
      ]
    },
    {
      "metadata": {
        "id": "XVCQ4euJ-Gft",
        "colab_type": "text"
      },
      "cell_type": "markdown",
      "source": [
        "We will build a **deep learning model** for the classification of images.<br/>\n",
        "We build a **Convolutional Neural Network (CNN)** for this task. They are known to be extremely effective when working with images.<br/>\n",
        "**Framework Used: Keras**\n"
      ]
    },
    {
      "metadata": {
        "id": "I5S-XK1J9_Sf",
        "colab_type": "text"
      },
      "cell_type": "markdown",
      "source": [
        "## Importing the Keras dependencies"
      ]
    },
    {
      "metadata": {
        "id": "r_p7O86vuB6B",
        "colab_type": "code",
        "outputId": "f2cc4d0a-ed3f-4ffb-cf03-eed23de80b26",
        "colab": {
          "base_uri": "https://localhost:8080/",
          "height": 34
        }
      },
      "cell_type": "code",
      "source": [
        "import keras\n",
        "from keras.models import Sequential\n",
        "from keras.layers import Dense,Conv2D,MaxPooling2D,Flatten,Dropout,BatchNormalization"
      ],
      "execution_count": 12,
      "outputs": [
        {
          "output_type": "stream",
          "text": [
            "Using TensorFlow backend.\n"
          ],
          "name": "stderr"
        }
      ]
    },
    {
      "metadata": {
        "id": "egKZG24_-0G_",
        "colab_type": "text"
      },
      "cell_type": "markdown",
      "source": [
        "## Model Architecture\n",
        "We use the sequential model from Keras to create our model.<br/>\n",
        "**Layers used :-**<br/>\n",
        "**Conv2d : ** It is the basic Convulation Layer in a CNN. We have used no, of units as 32, 64, 128 & 256 (in this order) in our architecture. All the Convolution layers have same padding and activation as relu.<br/>\n",
        "**BatchNormalization: ** This is the layer which normalizes data from the previous layer. Theres one BatchNormalization layer after every Conv2d layer.<br/>\n",
        "**MaxPooling2D: **It is the basic Maxpooling layer in a CNN. It reduces the size of the image by 2 (default value). Theres a maxpooling layer after each BatchNormalization layer.<br/>\n",
        "**Flatten: **This layer helps to flatten the output of the Convulational network to a simple 2D array.<br/>\n",
        "**Dropout: ** It is used to make the model more robust. <br/>\n",
        "**Dense: **This is the standard Neural Network layer. We have used one Dense layer as the output layer of our network. It has 4 output units corresponding to each class and has activation as sigmoid.<br/>\n",
        "**Activation used :- **<br/>\n",
        "**Relu: ** It is generally used in Convolutional neural networks.The function and its derivative both are monotonic.<br/>\n",
        "**Softmax: **It is used for multiclass classification as in this case.It returns the probabilities of each class and the target class will have the high probability."
      ]
    },
    {
      "metadata": {
        "id": "iWXUbvWaucDt",
        "colab_type": "code",
        "outputId": "51c7880b-03a7-4b2b-df2f-2d6878002139",
        "colab": {
          "base_uri": "https://localhost:8080/",
          "height": 768
        }
      },
      "cell_type": "code",
      "source": [
        " #model\n",
        "model=Sequential()\n",
        "model.add(Conv2D(32,5,padding=\"Same\",input_shape=(28,28,1),activation='relu'))\n",
        "model.add(BatchNormalization())\n",
        "model.add(MaxPooling2D(padding=\"Same\"))\n",
        "\n",
        "model.add(Conv2D(64,5,padding=\"Same\",activation='relu'))\n",
        "model.add(BatchNormalization())\n",
        "model.add(MaxPooling2D(padding=\"Same\"))\n",
        "\n",
        "model.add(Conv2D(128,5,padding=\"Same\",activation='relu'))\n",
        "model.add(BatchNormalization())\n",
        "model.add(MaxPooling2D(padding=\"Same\"))\n",
        "\n",
        "model.add(Conv2D(256,5,padding=\"Same\",activation='relu'))\n",
        "model.add(BatchNormalization())\n",
        "model.add(MaxPooling2D(padding=\"Same\",pool_size=4))\n",
        "\n",
        "model.add(Dropout(rate=0.2))\n",
        "model.add(Flatten())\n",
        "model.add(Dense(4,activation=\"softmax\"))\n",
        "#compiling\n",
        "model.compile(optimizer=\"adam\",loss=\"categorical_crossentropy\",metrics=[\"accuracy\"])\n",
        "#summary\n",
        "model.summary()"
      ],
      "execution_count": 13,
      "outputs": [
        {
          "output_type": "stream",
          "text": [
            "WARNING:tensorflow:From /usr/local/lib/python3.6/dist-packages/tensorflow/python/framework/op_def_library.py:263: colocate_with (from tensorflow.python.framework.ops) is deprecated and will be removed in a future version.\n",
            "Instructions for updating:\n",
            "Colocations handled automatically by placer.\n",
            "WARNING:tensorflow:From /usr/local/lib/python3.6/dist-packages/keras/backend/tensorflow_backend.py:3445: calling dropout (from tensorflow.python.ops.nn_ops) with keep_prob is deprecated and will be removed in a future version.\n",
            "Instructions for updating:\n",
            "Please use `rate` instead of `keep_prob`. Rate should be set to `rate = 1 - keep_prob`.\n",
            "_________________________________________________________________\n",
            "Layer (type)                 Output Shape              Param #   \n",
            "=================================================================\n",
            "conv2d_1 (Conv2D)            (None, 28, 28, 32)        832       \n",
            "_________________________________________________________________\n",
            "batch_normalization_1 (Batch (None, 28, 28, 32)        128       \n",
            "_________________________________________________________________\n",
            "max_pooling2d_1 (MaxPooling2 (None, 14, 14, 32)        0         \n",
            "_________________________________________________________________\n",
            "conv2d_2 (Conv2D)            (None, 14, 14, 64)        51264     \n",
            "_________________________________________________________________\n",
            "batch_normalization_2 (Batch (None, 14, 14, 64)        256       \n",
            "_________________________________________________________________\n",
            "max_pooling2d_2 (MaxPooling2 (None, 7, 7, 64)          0         \n",
            "_________________________________________________________________\n",
            "conv2d_3 (Conv2D)            (None, 7, 7, 128)         204928    \n",
            "_________________________________________________________________\n",
            "batch_normalization_3 (Batch (None, 7, 7, 128)         512       \n",
            "_________________________________________________________________\n",
            "max_pooling2d_3 (MaxPooling2 (None, 4, 4, 128)         0         \n",
            "_________________________________________________________________\n",
            "conv2d_4 (Conv2D)            (None, 4, 4, 256)         819456    \n",
            "_________________________________________________________________\n",
            "batch_normalization_4 (Batch (None, 4, 4, 256)         1024      \n",
            "_________________________________________________________________\n",
            "max_pooling2d_4 (MaxPooling2 (None, 1, 1, 256)         0         \n",
            "_________________________________________________________________\n",
            "dropout_1 (Dropout)          (None, 1, 1, 256)         0         \n",
            "_________________________________________________________________\n",
            "flatten_1 (Flatten)          (None, 256)               0         \n",
            "_________________________________________________________________\n",
            "dense_1 (Dense)              (None, 4)                 1028      \n",
            "=================================================================\n",
            "Total params: 1,079,428\n",
            "Trainable params: 1,078,468\n",
            "Non-trainable params: 960\n",
            "_________________________________________________________________\n"
          ],
          "name": "stdout"
        }
      ]
    },
    {
      "metadata": {
        "id": "Qp3ZdbPx4sgh",
        "colab_type": "text"
      },
      "cell_type": "markdown",
      "source": [
        "## Training the model and saving the best weights according to Validation accuracy\n",
        "We createe model checkpoints whenever the validation accuracy improves and save those weights. In this way if something unpredictable happens, we would still have the weights of our model saved with us.<br/>\n",
        "While training the batch size has been increased. This is in accordance to new research which states that it is better practice to increase the batch size gradually as compared to the common practice of decaying learning rate because a) it requires less parameter updates i.e. number of steps, and b) trains faster — with similar test accuracies or learning curve."
      ]
    },
    {
      "metadata": {
        "id": "vrmhPZibeaPb",
        "colab_type": "code",
        "colab": {}
      },
      "cell_type": "code",
      "source": [
        "import os\n",
        "if \"model_weights\" not in os.listdir():\n",
        "  os.mkdir(\"model_weights\")\n",
        "filepath=\"model_weights/zweights-{val_acc:.4f}.h5\"\n",
        "checkpoint = keras.callbacks.ModelCheckpoint(filepath, monitor='val_acc', verbose=1, save_best_only=True, save_weights_only=True, mode='max', period=1)\n",
        "callbacks_list = [checkpoint]"
      ],
      "execution_count": 0,
      "outputs": []
    },
    {
      "metadata": {
        "id": "L6C-xZU9m3ab",
        "colab_type": "code",
        "outputId": "0b50b640-a24d-4b2c-daa0-8209717fb9b7",
        "colab": {
          "base_uri": "https://localhost:8080/",
          "height": 802
        }
      },
      "cell_type": "code",
      "source": [
        "model.fit(Xtrain,Ytrain,validation_data=(Xval,Yval),batch_size=64,epochs=10,callbacks = callbacks_list)"
      ],
      "execution_count": 15,
      "outputs": [
        {
          "output_type": "stream",
          "text": [
            "WARNING:tensorflow:From /usr/local/lib/python3.6/dist-packages/tensorflow/python/ops/math_ops.py:3066: to_int32 (from tensorflow.python.ops.math_ops) is deprecated and will be removed in a future version.\n",
            "Instructions for updating:\n",
            "Use tf.cast instead.\n",
            "Train on 30400 samples, validate on 1600 samples\n",
            "Epoch 1/10\n",
            "30400/30400 [==============================] - 14s 446us/step - loss: 0.7231 - acc: 0.7452 - val_loss: 0.5544 - val_acc: 0.7925\n",
            "\n",
            "Epoch 00001: val_acc improved from -inf to 0.79250, saving model to model_weights/zweights-0.7925.h5\n",
            "Epoch 2/10\n",
            "30400/30400 [==============================] - 12s 386us/step - loss: 0.4288 - acc: 0.8358 - val_loss: 0.3887 - val_acc: 0.8444\n",
            "\n",
            "Epoch 00002: val_acc improved from 0.79250 to 0.84437, saving model to model_weights/zweights-0.8444.h5\n",
            "Epoch 3/10\n",
            "30400/30400 [==============================] - 11s 377us/step - loss: 0.3610 - acc: 0.8627 - val_loss: 0.3680 - val_acc: 0.8675\n",
            "\n",
            "Epoch 00003: val_acc improved from 0.84437 to 0.86750, saving model to model_weights/zweights-0.8675.h5\n",
            "Epoch 4/10\n",
            "30400/30400 [==============================] - 12s 388us/step - loss: 0.3114 - acc: 0.8800 - val_loss: 0.3290 - val_acc: 0.8681\n",
            "\n",
            "Epoch 00004: val_acc improved from 0.86750 to 0.86813, saving model to model_weights/zweights-0.8681.h5\n",
            "Epoch 5/10\n",
            "30400/30400 [==============================] - 12s 384us/step - loss: 0.2730 - acc: 0.8942 - val_loss: 0.6478 - val_acc: 0.7819\n",
            "\n",
            "Epoch 00005: val_acc did not improve from 0.86813\n",
            "Epoch 6/10\n",
            "30400/30400 [==============================] - 12s 389us/step - loss: 0.2385 - acc: 0.9090 - val_loss: 0.3780 - val_acc: 0.8600\n",
            "\n",
            "Epoch 00006: val_acc did not improve from 0.86813\n",
            "Epoch 7/10\n",
            "30400/30400 [==============================] - 12s 383us/step - loss: 0.2017 - acc: 0.9234 - val_loss: 0.4292 - val_acc: 0.8444\n",
            "\n",
            "Epoch 00007: val_acc did not improve from 0.86813\n",
            "Epoch 8/10\n",
            "30400/30400 [==============================] - 12s 386us/step - loss: 0.1731 - acc: 0.9350 - val_loss: 0.3594 - val_acc: 0.8800\n",
            "\n",
            "Epoch 00008: val_acc improved from 0.86813 to 0.88000, saving model to model_weights/zweights-0.8800.h5\n",
            "Epoch 9/10\n",
            "30400/30400 [==============================] - 12s 383us/step - loss: 0.1401 - acc: 0.9483 - val_loss: 0.3719 - val_acc: 0.8762\n",
            "\n",
            "Epoch 00009: val_acc did not improve from 0.88000\n",
            "Epoch 10/10\n",
            "30400/30400 [==============================] - 12s 387us/step - loss: 0.1249 - acc: 0.9555 - val_loss: 0.3748 - val_acc: 0.8850\n",
            "\n",
            "Epoch 00010: val_acc improved from 0.88000 to 0.88500, saving model to model_weights/zweights-0.8850.h5\n"
          ],
          "name": "stdout"
        },
        {
          "output_type": "execute_result",
          "data": {
            "text/plain": [
              "<keras.callbacks.History at 0x7fbc94b2d438>"
            ]
          },
          "metadata": {
            "tags": []
          },
          "execution_count": 15
        }
      ]
    },
    {
      "metadata": {
        "id": "KiZxSX2Cno0n",
        "colab_type": "code",
        "outputId": "3cc8913e-954c-4674-8971-1120ba08996b",
        "colab": {
          "base_uri": "https://localhost:8080/",
          "height": 411
        }
      },
      "cell_type": "code",
      "source": [
        "model.fit(Xtrain,Ytrain,validation_data=(Xval,Yval),batch_size=128,epochs=5,callbacks = callbacks_list)"
      ],
      "execution_count": 16,
      "outputs": [
        {
          "output_type": "stream",
          "text": [
            "Train on 30400 samples, validate on 1600 samples\n",
            "Epoch 1/5\n",
            "30400/30400 [==============================] - 8s 278us/step - loss: 0.0484 - acc: 0.9827 - val_loss: 0.4095 - val_acc: 0.8844\n",
            "\n",
            "Epoch 00001: val_acc did not improve from 0.88500\n",
            "Epoch 2/5\n",
            "30400/30400 [==============================] - 8s 272us/step - loss: 0.0220 - acc: 0.9929 - val_loss: 0.4522 - val_acc: 0.8931\n",
            "\n",
            "Epoch 00002: val_acc improved from 0.88500 to 0.89312, saving model to model_weights/zweights-0.8931.h5\n",
            "Epoch 3/5\n",
            "30400/30400 [==============================] - 8s 274us/step - loss: 0.0200 - acc: 0.9934 - val_loss: 0.5450 - val_acc: 0.8900\n",
            "\n",
            "Epoch 00003: val_acc did not improve from 0.89312\n",
            "Epoch 4/5\n",
            "30400/30400 [==============================] - 8s 272us/step - loss: 0.0229 - acc: 0.9919 - val_loss: 0.5206 - val_acc: 0.8900\n",
            "\n",
            "Epoch 00004: val_acc did not improve from 0.89312\n",
            "Epoch 5/5\n",
            "30400/30400 [==============================] - 8s 272us/step - loss: 0.0257 - acc: 0.9911 - val_loss: 0.5859 - val_acc: 0.8744\n",
            "\n",
            "Epoch 00005: val_acc did not improve from 0.89312\n"
          ],
          "name": "stdout"
        },
        {
          "output_type": "execute_result",
          "data": {
            "text/plain": [
              "<keras.callbacks.History at 0x7fbc9d722978>"
            ]
          },
          "metadata": {
            "tags": []
          },
          "execution_count": 16
        }
      ]
    },
    {
      "metadata": {
        "id": "vfEMEbDMwPTq",
        "colab_type": "code",
        "colab": {
          "base_uri": "https://localhost:8080/",
          "height": 411
        },
        "outputId": "f94d5d63-671e-4dcd-ae98-d8d760987162"
      },
      "cell_type": "code",
      "source": [
        "model.fit(Xtrain,Ytrain,validation_data=(Xval,Yval),batch_size=256,epochs=5,callbacks = callbacks_list)"
      ],
      "execution_count": 17,
      "outputs": [
        {
          "output_type": "stream",
          "text": [
            "Train on 30400 samples, validate on 1600 samples\n",
            "Epoch 1/5\n",
            "30400/30400 [==============================] - 8s 259us/step - loss: 0.0144 - acc: 0.9955 - val_loss: 0.5097 - val_acc: 0.8938\n",
            "\n",
            "Epoch 00001: val_acc improved from 0.89312 to 0.89375, saving model to model_weights/zweights-0.8938.h5\n",
            "Epoch 2/5\n",
            "30400/30400 [==============================] - 7s 234us/step - loss: 0.0034 - acc: 0.9993 - val_loss: 0.5667 - val_acc: 0.8981\n",
            "\n",
            "Epoch 00002: val_acc improved from 0.89375 to 0.89812, saving model to model_weights/zweights-0.8981.h5\n",
            "Epoch 3/5\n",
            "30400/30400 [==============================] - 7s 235us/step - loss: 0.0012 - acc: 0.9998 - val_loss: 0.5533 - val_acc: 0.8938\n",
            "\n",
            "Epoch 00003: val_acc did not improve from 0.89812\n",
            "Epoch 4/5\n",
            "30400/30400 [==============================] - 7s 234us/step - loss: 7.1739e-04 - acc: 1.0000 - val_loss: 0.5608 - val_acc: 0.9000\n",
            "\n",
            "Epoch 00004: val_acc improved from 0.89812 to 0.90000, saving model to model_weights/zweights-0.9000.h5\n",
            "Epoch 5/5\n",
            "30400/30400 [==============================] - 7s 236us/step - loss: 6.7236e-04 - acc: 0.9999 - val_loss: 0.6454 - val_acc: 0.9012\n",
            "\n",
            "Epoch 00005: val_acc improved from 0.90000 to 0.90125, saving model to model_weights/zweights-0.9012.h5\n"
          ],
          "name": "stdout"
        },
        {
          "output_type": "execute_result",
          "data": {
            "text/plain": [
              "<keras.callbacks.History at 0x7fbc93fe0f98>"
            ]
          },
          "metadata": {
            "tags": []
          },
          "execution_count": 17
        }
      ]
    },
    {
      "metadata": {
        "id": "-_rdFcR85BFy",
        "colab_type": "text"
      },
      "cell_type": "markdown",
      "source": [
        "## Loading the model with the Best weights"
      ]
    },
    {
      "metadata": {
        "id": "AobW4Y7SgFQu",
        "colab_type": "code",
        "colab": {
          "base_uri": "https://localhost:8080/",
          "height": 34
        },
        "outputId": "1b1b0d92-9969-4081-ff14-64ac6048d327"
      },
      "cell_type": "code",
      "source": [
        "#weights path\n",
        "weights_path=\"model_weights\"\n",
        "model_weights=os.listdir(weights_path)\n",
        "#initialising the best_weights file\n",
        "best_weights=\"zweights-0.0000.h5\"\n",
        "for weights in model_weights:\n",
        "  if(weights>best_weights):\n",
        "    best_weights=weights\n",
        "print(best_weights)\n",
        "model.load_weights(weights_path+'/'+best_weights)"
      ],
      "execution_count": 18,
      "outputs": [
        {
          "output_type": "stream",
          "text": [
            "zweights-0.9012.h5\n"
          ],
          "name": "stdout"
        }
      ]
    },
    {
      "metadata": {
        "id": "2c8PzViB5Frl",
        "colab_type": "text"
      },
      "cell_type": "markdown",
      "source": [
        "## Loading the test images from the  pickle file"
      ]
    },
    {
      "metadata": {
        "id": "m0Y8xd4ch3Bt",
        "colab_type": "code",
        "colab": {
          "base_uri": "https://localhost:8080/",
          "height": 34
        },
        "outputId": "61fefa40-f648-43e7-e409-3117099541f5"
      },
      "cell_type": "code",
      "source": [
        "file = open(\"test_image.pkl\",'rb')\n",
        "test_images = pickle.load(file)\n",
        "file.close()\n",
        "#pritning the length\n",
        "len(test_images)"
      ],
      "execution_count": 19,
      "outputs": [
        {
          "output_type": "execute_result",
          "data": {
            "text/plain": [
              "2000"
            ]
          },
          "metadata": {
            "tags": []
          },
          "execution_count": 19
        }
      ]
    },
    {
      "metadata": {
        "id": "lwnuLxLT5MmB",
        "colab_type": "text"
      },
      "cell_type": "markdown",
      "source": [
        "## Reshaping the images and applying max normalization"
      ]
    },
    {
      "metadata": {
        "id": "zGUPasYviWE7",
        "colab_type": "code",
        "colab": {
          "base_uri": "https://localhost:8080/",
          "height": 34
        },
        "outputId": "8637126c-8ef7-47fd-c9a0-66e0c015f1db"
      },
      "cell_type": "code",
      "source": [
        "#converting to numpy array\n",
        "test_images=np.array(test_images)\n",
        "#reshaping\n",
        "xtest=np.reshape(test_images,(-1,28,28,1))\n",
        "#applying max normalization\n",
        "xtest=xtest/255.0\n",
        "#pritning final shape\n",
        "xtest.shape"
      ],
      "execution_count": 20,
      "outputs": [
        {
          "output_type": "execute_result",
          "data": {
            "text/plain": [
              "(2000, 28, 28, 1)"
            ]
          },
          "metadata": {
            "tags": []
          },
          "execution_count": 20
        }
      ]
    },
    {
      "metadata": {
        "id": "xTna5WWx5WeP",
        "colab_type": "text"
      },
      "cell_type": "markdown",
      "source": [
        "## Predicting "
      ]
    },
    {
      "metadata": {
        "id": "AmIL8D44ifnN",
        "colab_type": "code",
        "colab": {
          "base_uri": "https://localhost:8080/",
          "height": 153
        },
        "outputId": "c2df56b8-1ce5-4f48-e8f8-0d6e7e2665e1"
      },
      "cell_type": "code",
      "source": [
        "#predicting\n",
        "predictions=model.predict(xtest)\n",
        "#printing the predictions\n",
        "predictions"
      ],
      "execution_count": 21,
      "outputs": [
        {
          "output_type": "execute_result",
          "data": {
            "text/plain": [
              "array([[9.9999988e-01, 1.2776852e-12, 3.4043413e-08, 1.1330308e-07],\n",
              "       [9.9828374e-01, 1.6737964e-06, 1.1633662e-05, 1.7030014e-03],\n",
              "       [9.9789113e-01, 1.6770791e-08, 1.6875429e-06, 2.1071539e-03],\n",
              "       ...,\n",
              "       [3.2943749e-08, 9.4930712e-08, 5.9040364e-08, 9.9999988e-01],\n",
              "       [2.2124757e-17, 8.9623349e-16, 1.2813824e-16, 1.0000000e+00],\n",
              "       [1.8511562e-15, 9.2961545e-19, 5.1419262e-16, 1.0000000e+00]],\n",
              "      dtype=float32)"
            ]
          },
          "metadata": {
            "tags": []
          },
          "execution_count": 21
        }
      ]
    },
    {
      "metadata": {
        "id": "Vva2HVX95ch_",
        "colab_type": "text"
      },
      "cell_type": "markdown",
      "source": [
        "## Getting the Predictions into the required form"
      ]
    },
    {
      "metadata": {
        "id": "00JR6HgaiqDq",
        "colab_type": "code",
        "colab": {
          "base_uri": "https://localhost:8080/",
          "height": 136
        },
        "outputId": "9a42163d-8e6c-4ad6-b0a4-31aaf9930414"
      },
      "cell_type": "code",
      "source": [
        "#transforming the predicitons using the LabelBinarizer's inverse transformation\n",
        "predictions=lb.inverse_transform(predictions)\n",
        "#forming an np zeros array\n",
        "final_predictions=np.zeros((predictions.shape[0],2))\n",
        "#forming the final predictions in the required form\n",
        "for ix in range(predictions.shape[0]):\n",
        "  final_predictions[ix][0]=ix\n",
        "  final_predictions[ix][1]=predictions[ix]\n",
        "#printing the final predictions\n",
        "final_predictions"
      ],
      "execution_count": 22,
      "outputs": [
        {
          "output_type": "execute_result",
          "data": {
            "text/plain": [
              "array([[0.000e+00, 0.000e+00],\n",
              "       [1.000e+00, 0.000e+00],\n",
              "       [2.000e+00, 0.000e+00],\n",
              "       ...,\n",
              "       [1.997e+03, 6.000e+00],\n",
              "       [1.998e+03, 6.000e+00],\n",
              "       [1.999e+03, 6.000e+00]])"
            ]
          },
          "metadata": {
            "tags": []
          },
          "execution_count": 22
        }
      ]
    },
    {
      "metadata": {
        "id": "y5OIwneh5ib7",
        "colab_type": "text"
      },
      "cell_type": "markdown",
      "source": [
        "## Saving the predicitons to CSV"
      ]
    },
    {
      "metadata": {
        "id": "3ENh6seAjfL6",
        "colab_type": "code",
        "colab": {}
      },
      "cell_type": "code",
      "source": [
        "#storing the predictions in a csv file\n",
        "import pandas as pd\n",
        "pd.DataFrame(final_predictions).to_csv(\"Amrit_Khera.csv\",header=['image_index','class'],index=False)"
      ],
      "execution_count": 0,
      "outputs": []
    },
    {
      "metadata": {
        "id": "F_2AcHa_fQSH",
        "colab_type": "code",
        "colab": {}
      },
      "cell_type": "code",
      "source": [
        "!rm -R \"model_weights\""
      ],
      "execution_count": 0,
      "outputs": []
    }
  ]
}